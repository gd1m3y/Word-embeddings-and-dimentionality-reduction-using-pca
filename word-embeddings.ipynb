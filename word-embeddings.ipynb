{
 "cells": [
  {
   "cell_type": "code",
   "execution_count": 1,
   "metadata": {},
   "outputs": [],
   "source": [
    "import nltk"
   ]
  },
  {
   "cell_type": "code",
   "execution_count": 2,
   "metadata": {},
   "outputs": [],
   "source": [
    "from gensim.models import KeyedVectors"
   ]
  },
  {
   "cell_type": "code",
   "execution_count": 4,
   "metadata": {},
   "outputs": [],
   "source": [
    "embeddings = KeyedVectors.load_word2vec_format('D:/xxx/GoogleNews-vectors-negative300.bin', binary = True)"
   ]
  },
  {
   "cell_type": "code",
   "execution_count": 5,
   "metadata": {},
   "outputs": [
    {
     "data": {
      "text/plain": [
       "gensim.models.keyedvectors.Word2VecKeyedVectors"
      ]
     },
     "execution_count": 5,
     "metadata": {},
     "output_type": "execute_result"
    }
   ],
   "source": [
    "type(embeddings)"
   ]
  },
  {
   "cell_type": "code",
   "execution_count": 7,
   "metadata": {},
   "outputs": [],
   "source": [
    "vocab = embeddings.vocab"
   ]
  },
  {
   "cell_type": "code",
   "execution_count": 11,
   "metadata": {},
   "outputs": [
    {
     "data": {
      "text/plain": [
       "(['</s>',\n",
       "  'in',\n",
       "  'for',\n",
       "  'that',\n",
       "  'is',\n",
       "  'on',\n",
       "  '##',\n",
       "  'The',\n",
       "  'with',\n",
       "  'said',\n",
       "  'was',\n",
       "  'the',\n",
       "  'at',\n",
       "  'not',\n",
       "  'as',\n",
       "  'it',\n",
       "  'be',\n",
       "  'from',\n",
       "  'by',\n",
       "  'are',\n",
       "  'I',\n",
       "  'have',\n",
       "  'he',\n",
       "  'will',\n",
       "  'has',\n",
       "  '####',\n",
       "  'his',\n",
       "  'an',\n",
       "  'this',\n",
       "  'or',\n",
       "  'their',\n",
       "  'who',\n",
       "  'they',\n",
       "  'but',\n",
       "  '$',\n",
       "  'had',\n",
       "  'year',\n",
       "  'were',\n",
       "  'we',\n",
       "  'more',\n",
       "  '###',\n",
       "  'up',\n",
       "  'been',\n",
       "  'you',\n",
       "  'its',\n",
       "  'one',\n",
       "  'about',\n",
       "  'would',\n",
       "  'which',\n",
       "  'out',\n",
       "  'can',\n",
       "  'It',\n",
       "  'all',\n",
       "  'also',\n",
       "  'two',\n",
       "  'after',\n",
       "  'first',\n",
       "  'He',\n",
       "  'do',\n",
       "  'time',\n",
       "  'than',\n",
       "  'when',\n",
       "  'We',\n",
       "  'over',\n",
       "  'last',\n",
       "  'new',\n",
       "  'other',\n",
       "  'her',\n",
       "  'people',\n",
       "  'into',\n",
       "  'In',\n",
       "  'our',\n",
       "  'there',\n",
       "  'A',\n",
       "  'she',\n",
       "  'could',\n",
       "  'just',\n",
       "  'years',\n",
       "  'some',\n",
       "  'U.S.',\n",
       "  'three',\n",
       "  'million',\n",
       "  'them',\n",
       "  'what',\n",
       "  'But',\n",
       "  'so',\n",
       "  'no',\n",
       "  'like',\n",
       "  'if',\n",
       "  'only',\n",
       "  'percent',\n",
       "  'get',\n",
       "  'did',\n",
       "  'him',\n",
       "  'game',\n",
       "  'back',\n",
       "  'because',\n",
       "  'now',\n",
       "  '#.#',\n",
       "  'before',\n",
       "  'company',\n",
       "  'any',\n",
       "  'team',\n",
       "  'against',\n",
       "  'off',\n",
       "  'This',\n",
       "  'most',\n",
       "  'made',\n",
       "  'through',\n",
       "  'make',\n",
       "  'second',\n",
       "  'state',\n",
       "  'well',\n",
       "  'day',\n",
       "  'season',\n",
       "  'says',\n",
       "  'week',\n",
       "  'where',\n",
       "  'while',\n",
       "  'down',\n",
       "  'being',\n",
       "  'government',\n",
       "  'your',\n",
       "  '#-#',\n",
       "  'home',\n",
       "  'going',\n",
       "  'my',\n",
       "  'good',\n",
       "  'They',\n",
       "  \"'re\",\n",
       "  'should',\n",
       "  'many',\n",
       "  'way',\n",
       "  'those',\n",
       "  'four',\n",
       "  'during',\n",
       "  'such',\n",
       "  'may',\n",
       "  'very',\n",
       "  'how',\n",
       "  'since',\n",
       "  'work',\n",
       "  'take',\n",
       "  'including',\n",
       "  'high',\n",
       "  'then',\n",
       "  '%',\n",
       "  'next',\n",
       "  '#,###',\n",
       "  'By',\n",
       "  'much',\n",
       "  'still',\n",
       "  'go',\n",
       "  'think',\n",
       "  'old',\n",
       "  'even',\n",
       "  '#.##',\n",
       "  'world',\n",
       "  'see',\n",
       "  'say',\n",
       "  'business',\n",
       "  'five',\n",
       "  'told',\n",
       "  'under',\n",
       "  'us',\n",
       "  '1',\n",
       "  'these',\n",
       "  'If',\n",
       "  'right',\n",
       "  'And',\n",
       "  'me',\n",
       "  'between',\n",
       "  'play',\n",
       "  'help',\n",
       "  '##,###',\n",
       "  'market',\n",
       "  'That',\n",
       "  'know',\n",
       "  'end',\n",
       "  'AP',\n",
       "  'long',\n",
       "  'information',\n",
       "  'points',\n",
       "  'does',\n",
       "  'both',\n",
       "  'There',\n",
       "  'part',\n",
       "  'around',\n",
       "  'police',\n",
       "  'want',\n",
       "  \"'ve\",\n",
       "  'based',\n",
       "  'For',\n",
       "  'got',\n",
       "  'third',\n",
       "  'school',\n",
       "  'left',\n",
       "  'another',\n",
       "  'country',\n",
       "  'need'],\n",
       " <gensim.models.keyedvectors.Vocab at 0x2260815a320>,\n",
       " <gensim.models.keyedvectors.Vocab at 0x22608a966d8>)"
      ]
     },
     "execution_count": 11,
     "metadata": {},
     "output_type": "execute_result"
    }
   ],
   "source": [
    "list(vocab.keys())[:200],vocab['india'],vocab['delhi']"
   ]
  },
  {
   "cell_type": "code",
   "execution_count": 13,
   "metadata": {},
   "outputs": [],
   "source": [
    "with open('D:/xxx/capitals and cities.txt','r') as f:\n",
    "    lines = f.read()"
   ]
  },
  {
   "cell_type": "code",
   "execution_count": 18,
   "metadata": {},
   "outputs": [],
   "source": [
    "countries = list(set(nltk.word_tokenize(lines)))+['India','Delhi']"
   ]
  },
  {
   "cell_type": "code",
   "execution_count": 19,
   "metadata": {},
   "outputs": [
    {
     "data": {
      "text/plain": [
       "['Astana',\n",
       " 'China',\n",
       " 'Spain',\n",
       " 'Lebanon',\n",
       " 'Khartoum',\n",
       " 'Somalia',\n",
       " 'Sweden',\n",
       " 'Podgorica',\n",
       " 'Finland',\n",
       " 'Estonia',\n",
       " 'Harare',\n",
       " 'Pakistan',\n",
       " 'Italy',\n",
       " 'Gabon',\n",
       " 'Brussels',\n",
       " 'Malta',\n",
       " 'Caracas',\n",
       " 'Georgetown',\n",
       " 'Syria',\n",
       " 'Iraq',\n",
       " 'Cairo',\n",
       " 'Riga',\n",
       " 'Canada',\n",
       " 'Belgrade',\n",
       " 'Kigali',\n",
       " 'Kazakhstan',\n",
       " 'Hungary',\n",
       " 'Bern',\n",
       " 'Kenya',\n",
       " 'Belmopan',\n",
       " 'Nassau',\n",
       " 'Guyana',\n",
       " 'Tunis',\n",
       " 'Romania',\n",
       " 'Lusaka',\n",
       " 'Latvia',\n",
       " 'Poland',\n",
       " 'Tegucigalpa',\n",
       " 'Turkmenistan',\n",
       " 'Bahamas',\n",
       " 'Paris',\n",
       " 'Venezuela',\n",
       " 'Samoa',\n",
       " 'Gambia',\n",
       " 'Havana',\n",
       " 'Ghana',\n",
       " 'Cuba',\n",
       " 'Liberia',\n",
       " 'Dushanbe',\n",
       " 'Nepal',\n",
       " 'England',\n",
       " 'Nicosia',\n",
       " 'Yerevan',\n",
       " 'Ireland',\n",
       " 'Chile',\n",
       " 'Bishkek',\n",
       " 'Islamabad',\n",
       " 'Vilnius',\n",
       " 'Slovenia',\n",
       " 'Cyprus',\n",
       " 'Rome',\n",
       " 'Oman',\n",
       " 'Mogadishu',\n",
       " 'Macedonia',\n",
       " 'Warsaw',\n",
       " 'Vietnam',\n",
       " 'Manama',\n",
       " 'Tallinn',\n",
       " 'Suriname',\n",
       " 'Suva',\n",
       " 'Quito',\n",
       " 'Sofia',\n",
       " 'Ashgabat',\n",
       " 'Helsinki',\n",
       " 'Baghdad',\n",
       " 'Tehran',\n",
       " 'Conakry',\n",
       " 'France',\n",
       " 'Luanda',\n",
       " 'Iran',\n",
       " 'Chisinau',\n",
       " 'Jakarta',\n",
       " 'Manila',\n",
       " 'Denmark',\n",
       " 'Uruguay',\n",
       " 'Damascus',\n",
       " 'Berlin',\n",
       " 'Lithuania',\n",
       " 'Azerbaijan',\n",
       " 'Mauritania',\n",
       " 'Kiev',\n",
       " 'Moscow',\n",
       " 'Bulgaria',\n",
       " 'Rabat',\n",
       " 'Canberra',\n",
       " 'Oslo',\n",
       " 'Banjul',\n",
       " 'Uganda',\n",
       " 'Switzerland',\n",
       " 'Vaduz',\n",
       " 'Zagreb',\n",
       " 'Lima',\n",
       " 'Australia',\n",
       " 'London',\n",
       " 'Apia',\n",
       " 'Greece',\n",
       " 'Malawi',\n",
       " 'Lisbon',\n",
       " 'Liechtenstein',\n",
       " 'Algeria',\n",
       " 'Monrovia',\n",
       " 'Libya',\n",
       " 'Honduras',\n",
       " 'Turkey',\n",
       " 'Taipei',\n",
       " 'Vienna',\n",
       " 'Morocco',\n",
       " 'Kampala',\n",
       " 'Jordan',\n",
       " 'Bucharest',\n",
       " 'Burundi',\n",
       " 'Tbilisi',\n",
       " 'Norway',\n",
       " 'Tashkent',\n",
       " 'Baku',\n",
       " 'Rwanda',\n",
       " 'Muscat',\n",
       " 'Taiwan',\n",
       " 'Montevideo',\n",
       " 'Belarus',\n",
       " 'Doha',\n",
       " 'Montenegro',\n",
       " 'Ottawa',\n",
       " 'Guinea',\n",
       " 'Russia',\n",
       " 'Antananarivo',\n",
       " 'Bahrain',\n",
       " 'Dominica',\n",
       " 'Accra',\n",
       " 'Gaborone',\n",
       " 'Austria',\n",
       " 'Portugal',\n",
       " 'Ecuador',\n",
       " 'Zambia',\n",
       " 'Tajikistan',\n",
       " 'Botswana',\n",
       " 'Tirana',\n",
       " 'Bamako',\n",
       " 'Sudan',\n",
       " 'Senegal',\n",
       " 'Afghanistan',\n",
       " 'Libreville',\n",
       " 'Belize',\n",
       " 'Kabul',\n",
       " 'Maputo',\n",
       " 'Mozambique',\n",
       " 'Moldova',\n",
       " 'Athens',\n",
       " 'Santiago',\n",
       " 'Egypt',\n",
       " 'Mali',\n",
       " 'Abuja',\n",
       " 'Budapest',\n",
       " 'Windhoek',\n",
       " 'Beijing',\n",
       " 'Beirut',\n",
       " 'Roseau',\n",
       " 'Georgia',\n",
       " 'Dhaka',\n",
       " 'Dakar',\n",
       " 'Lilongwe',\n",
       " 'Copenhagen',\n",
       " 'Amman',\n",
       " 'Indonesia',\n",
       " 'Vientiane',\n",
       " 'Madrid',\n",
       " 'Stockholm',\n",
       " 'Albania',\n",
       " 'Minsk',\n",
       " 'Niamey',\n",
       " 'Valletta',\n",
       " 'Slovakia',\n",
       " 'Ljubljana',\n",
       " 'Greenland',\n",
       " 'Bangkok',\n",
       " 'Peru',\n",
       " 'Asmara',\n",
       " 'Namibia',\n",
       " 'Managua',\n",
       " 'Hanoi',\n",
       " 'Nigeria',\n",
       " 'Philippines',\n",
       " 'Thailand',\n",
       " 'Tokyo',\n",
       " 'Nairobi',\n",
       " 'Laos',\n",
       " 'Eritrea',\n",
       " 'Nuuk',\n",
       " 'Uzbekistan',\n",
       " 'Armenia',\n",
       " 'Qatar',\n",
       " 'Nouakchott',\n",
       " 'Dublin',\n",
       " 'Funafuti',\n",
       " 'Nicaragua',\n",
       " 'Serbia',\n",
       " 'Bratislava',\n",
       " 'Ukraine',\n",
       " 'Skopje',\n",
       " 'Paramaribo',\n",
       " 'Angola',\n",
       " 'Fiji',\n",
       " 'Algiers',\n",
       " 'Kathmandu',\n",
       " 'Croatia',\n",
       " 'Tunisia',\n",
       " 'Kyrgyzstan',\n",
       " 'Ankara',\n",
       " 'Kingston',\n",
       " 'Tripoli',\n",
       " 'Madagascar',\n",
       " 'Germany',\n",
       " 'Jamaica',\n",
       " 'Bujumbura',\n",
       " 'Tuvalu',\n",
       " 'Bangladesh',\n",
       " 'Niger',\n",
       " 'Japan',\n",
       " 'Belgium',\n",
       " 'Zimbabwe',\n",
       " 'India',\n",
       " 'Delhi']"
      ]
     },
     "execution_count": 19,
     "metadata": {},
     "output_type": "execute_result"
    }
   ],
   "source": [
    "countries"
   ]
  },
  {
   "cell_type": "code",
   "execution_count": 65,
   "metadata": {},
   "outputs": [],
   "source": [
    "some = ['positive','negative','Dog','Cat','God','Religion','Diety','king', 'queen', 'oil', 'gas', 'happy', 'sad', 'city', 'town', 'village', 'country', 'continent', 'petroleum', 'joyful']"
   ]
  },
  {
   "cell_type": "code",
   "execution_count": 66,
   "metadata": {},
   "outputs": [],
   "source": [
    "new_lis = countries+some"
   ]
  },
  {
   "cell_type": "code",
   "execution_count": 67,
   "metadata": {},
   "outputs": [],
   "source": [
    "def get_embeddings(embeddings):\n",
    "    word_embeddings = {}\n",
    "    for word in embeddings.vocab:\n",
    "        if word in new_lis:\n",
    "            word_embeddings[word] = embeddings[word]\n",
    "    return word_embeddings"
   ]
  },
  {
   "cell_type": "code",
   "execution_count": 68,
   "metadata": {},
   "outputs": [],
   "source": [
    "word_embeddings = get_embeddings(embeddings)"
   ]
  },
  {
   "cell_type": "code",
   "execution_count": 69,
   "metadata": {},
   "outputs": [],
   "source": [
    "import numpy as np\n",
    "def cosine_similarity(A,B,embedding):\n",
    "    dot = np.dot(A,B)\n",
    "    l1 = np.linalg.norm(A)\n",
    "    l2 = np.linalg.norm(B)\n",
    "    \n",
    "    return dot/(l1*l2)"
   ]
  },
  {
   "cell_type": "code",
   "execution_count": 70,
   "metadata": {},
   "outputs": [],
   "source": [
    "king = word_embeddings['king']\n",
    "queen = word_embeddings['queen']"
   ]
  },
  {
   "cell_type": "code",
   "execution_count": 71,
   "metadata": {},
   "outputs": [
    {
     "data": {
      "text/plain": [
       "0.6510957"
      ]
     },
     "execution_count": 71,
     "metadata": {},
     "output_type": "execute_result"
    }
   ],
   "source": [
    "cosine_similarity(king,queen,word_embeddings)"
   ]
  },
  {
   "cell_type": "code",
   "execution_count": 72,
   "metadata": {},
   "outputs": [],
   "source": [
    "def get_city(city1,country1,city2,embeddings):\n",
    "    \n",
    "    city1_em = embeddings[city1]\n",
    "    country1_em = embeddings[country1]\n",
    "    city2_em = embeddings[city2]\n",
    "    group = set((city1,country1,city2))\n",
    "    vec = country1_em - city1_em + city2_em\n",
    "    \n",
    "    similarity =-1\n",
    "    \n",
    "    country =' '\n",
    "    for word in embeddings.keys():\n",
    "        if word not in group:\n",
    "            emb = cosine_similarity(embeddings[word],vec,embeddings)\n",
    "            if emb > similarity:\n",
    "                similarity = emb\n",
    "                country = (word,similarity)\n",
    "    return country"
   ]
  },
  {
   "cell_type": "code",
   "execution_count": 73,
   "metadata": {},
   "outputs": [
    {
     "data": {
      "text/plain": [
       "('England', 0.49735585)"
      ]
     },
     "execution_count": 73,
     "metadata": {},
     "output_type": "execute_result"
    }
   ],
   "source": [
    "get_city('Islamabad','Pakistan','London',word_embeddings)"
   ]
  },
  {
   "cell_type": "code",
   "execution_count": 74,
   "metadata": {},
   "outputs": [],
   "source": [
    "def get_vectors(embeddings, words):\n",
    "    \"\"\"\n",
    "    Input:\n",
    "        embeddings: a word \n",
    "        fr_embeddings:\n",
    "        words: a list of words\n",
    "    Output: \n",
    "        X: a matrix where the rows are the embeddings corresponding to the rows on the list\n",
    "        \n",
    "    \"\"\"\n",
    "    m = len(words)\n",
    "    X = np.zeros((1, 300))\n",
    "    for word in words:\n",
    "        english = word\n",
    "        eng_emb = embeddings[english]\n",
    "        X = np.row_stack((X, eng_emb))\n",
    "    X = X[1:,:]\n",
    "    return X"
   ]
  },
  {
   "cell_type": "code",
   "execution_count": 75,
   "metadata": {},
   "outputs": [],
   "source": [
    "def compute_pca(x,n_components):\n",
    "    \n",
    "    #calculate the demeaned data mean centering\n",
    "    X_demeaned = x - x.mean(axis=0)\n",
    "    covarience_matrix = np.cov(X_demeaned,rowvar=False)\n",
    "    \n",
    "    eigen_vals,eigen_vecs =  np.linalg.eigh(covarience_matrix)\n",
    "    \n",
    "    idx_sorted = np.argsort(eigen_vals)\n",
    "    \n",
    "    idx_sorted_decreasing = idx_sorted[::-1]\n",
    "    \n",
    "    eigen_vecs_decreasing = eigen_vecs[:,idx_sorted_decreasing]\n",
    "    \n",
    "    eigen_vecs_subset = eigen_vecs_decreasing[:,:n_components]\n",
    "    \n",
    "    X_reduced = np.dot(eigen_vecs_subset.T,X_demeaned.T).T\n",
    "    \n",
    "    return X_reduced"
   ]
  },
  {
   "cell_type": "code",
   "execution_count": 76,
   "metadata": {},
   "outputs": [
    {
     "name": "stdout",
     "output_type": "stream",
     "text": [
      "Your original matrix was (3, 10) and it became:\n",
      "[[ 0.43437323  0.49820384]\n",
      " [ 0.42077249 -0.50351448]\n",
      " [-0.85514571  0.00531064]] (3, 2)\n"
     ]
    }
   ],
   "source": [
    "np.random.seed(1)\n",
    "X = np.random.rand(3, 10)\n",
    "X_reduced = compute_pca(X, n_components=2)\n",
    "print(\"Your original matrix was \" + str(X.shape) + \" and it became:\")\n",
    "print(X_reduced,X_reduced.shape)"
   ]
  },
  {
   "cell_type": "code",
   "execution_count": 77,
   "metadata": {},
   "outputs": [
    {
     "name": "stdout",
     "output_type": "stream",
     "text": [
      "You have 11 words each of 300 dimensions thus X.shape is: (18, 300)\n"
     ]
    }
   ],
   "source": [
    "words = ['oil', 'gas', 'happy', 'sad', 'city', 'town',\n",
    "         'village', 'country', 'continent', 'petroleum', 'joyful','positive','negative','Dog','Cat','God','Diety','Religion']\n",
    "\n",
    "# given a list of words and the embeddings, it returns a matrix with all the embeddings\n",
    "X = get_vectors(word_embeddings, words)\n",
    "\n",
    "print('You have 11 words each of 300 dimensions thus X.shape is:', X.shape)"
   ]
  },
  {
   "cell_type": "code",
   "execution_count": 78,
   "metadata": {},
   "outputs": [
    {
     "data": {
      "image/png": "[encoded data removed]",
      "text/plain": [
       "<Figure size 720x720 with 1 Axes>"
      ]
     },
     "metadata": {
      "needs_background": "light"
     },
     "output_type": "display_data"
    }
   ],
   "source": [
    "# We have done the plotting for you. Just run this cell.\n",
    "import matplotlib.pyplot as plt\n",
    "\n",
    "plt.figure(figsize=(10,10))\n",
    "result = compute_pca(X, 2)\n",
    "plt.scatter(result[:, 0], result[:, 1])\n",
    "for i, word in enumerate(words):\n",
    "    plt.annotate(word, xy=(result[i, 0] - 0.05, result[i, 1] + 0.1))\n",
    "\n",
    "plt.show()"
   ]
  },
  {
   "cell_type": "code",
   "execution_count": null,
   "metadata": {},
   "outputs": [],
   "source": []
  },
  {
   "cell_type": "code",
   "execution_count": null,
   "metadata": {},
   "outputs": [],
   "source": []
  }
 ],
 "metadata": {
  "kernelspec": {
   "display_name": "Python 3",
   "language": "python",
   "name": "python3"
  },
  "language_info": {
   "codemirror_mode": {
    "name": "ipython",
    "version": 3
   },
   "file_extension": ".py",
   "mimetype": "text/x-python",
   "name": "python",
   "nbconvert_exporter": "python",
   "pygments_lexer": "ipython3",
   "version": "3.6.9"
  }
 },
 "nbformat": 4,
 "nbformat_minor": 2
}
